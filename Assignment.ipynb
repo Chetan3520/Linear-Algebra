{
 "cells": [
  {
   "cell_type": "markdown",
   "id": "1d441e8f",
   "metadata": {},
   "source": [
    "# [1]"
   ]
  },
  {
   "cell_type": "markdown",
   "id": "8d7b681e",
   "metadata": {},
   "source": [
    "# Checking various properties (such as symmetry, idempotency, singularity,orthogonality, definiteness etc) of the given matrix."
   ]
  },
  {
   "cell_type": "code",
   "execution_count": 3,
   "id": "c7fd68dc",
   "metadata": {},
   "outputs": [],
   "source": [
    "import numpy as np"
   ]
  },
  {
   "cell_type": "code",
   "execution_count": 4,
   "id": "073e6767",
   "metadata": {},
   "outputs": [
    {
     "name": "stdout",
     "output_type": "stream",
     "text": [
      "[[5 3 8]\n",
      " [1 5 7]\n",
      " [1 1 7]]\n"
     ]
    }
   ],
   "source": [
    "A=np.random.randint(1,9,(3,3))\n",
    "print(A)"
   ]
  },
  {
   "cell_type": "code",
   "execution_count": 5,
   "id": "17b05bc9",
   "metadata": {},
   "outputs": [],
   "source": [
    "def Properties(A):\n",
    "    row,col=A.shape\n",
    "    print(\"The given Matrix is \\n\",A)\n",
    "    print(\"The Determinant Of the Matrix is\",round(np.linalg.det(A)))\n",
    "    print(\"The Rank of the Matrix is: \",np.linalg.matrix_rank(A ))\n",
    "    if row==col:\n",
    "        print(\"The given Matrix is Square Matrix\")\n",
    "    else:\n",
    "        print(\"The given Matrix is Not Square Matrix\")\n",
    "    \n",
    "    if (A.T==A).all():\n",
    "        print(\"The given Matrix is Symmetric Matrix\")\n",
    "    else:\n",
    "        print(\"The given Matrix is Not Symmetric Matrix\")\n",
    "    if (np.linalg.det(A)!=0).all():\n",
    "        print(\"The given Matrix is Not Singular Matrix\")\n",
    "    else:\n",
    "        print(\"The given Matrix is Non Singular Matrix\")\n",
    "    if (np.linalg.inv(A)==A.T).all():\n",
    "        print(\"The given Matrix is Orthogonal Matrix\")\n",
    "    else:\n",
    "        print(\"The given Matrix is Not Orthogonal Matrix\")\n",
    "    if (A@A==A).all():\n",
    "        print(\"The given Matrix is Idempotent Matrix\")\n",
    "    else:\n",
    "        print(\"The given Matrix is Not Idempotent Matrix\")\n",
    "        "
   ]
  },
  {
   "cell_type": "code",
   "execution_count": 6,
   "id": "edb73168",
   "metadata": {},
   "outputs": [
    {
     "name": "stdout",
     "output_type": "stream",
     "text": [
      "The given Matrix is \n",
      " [[5 3 8]\n",
      " [1 5 7]\n",
      " [1 1 7]]\n",
      "The Determinant Of the Matrix is 108\n",
      "The Rank of the Matrix is:  3\n",
      "The given Matrix is Square Matrix\n",
      "The given Matrix is Not Symmetric Matrix\n",
      "The given Matrix is Not Singular Matrix\n",
      "The given Matrix is Not Orthogonal Matrix\n",
      "The given Matrix is Not Idempotent Matrix\n"
     ]
    }
   ],
   "source": [
    "Properties(A)"
   ]
  },
  {
   "cell_type": "markdown",
   "id": "86e26976",
   "metadata": {},
   "source": [
    "# [2]"
   ]
  },
  {
   "cell_type": "markdown",
   "id": "e9ee653b",
   "metadata": {},
   "source": [
    "# Cramer's Rule"
   ]
  },
  {
   "cell_type": "markdown",
   "id": "19a2eada",
   "metadata": {},
   "source": [
    "# 1. Solve the following systems of linear equations using Cramer’s rule."
   ]
  },
  {
   "cell_type": "markdown",
   "id": "48a07873",
   "metadata": {},
   "source": [
    "(a) 2x1 − x2 + x3 = −3,x1 + x2 −3x3 = 17, 5x1 −2x2 −4x3 = 20"
   ]
  },
  {
   "cell_type": "markdown",
   "id": "ff04ba5f",
   "metadata": {},
   "source": [
    "(b) 2x1 +3x2 − x3 = 4,x1 +4x2 + x3 = −1, 5x1 − x2 +2x3 = 1"
   ]
  },
  {
   "cell_type": "markdown",
   "id": "425b71c9",
   "metadata": {},
   "source": [
    "(c) −x1 +2x2 +4x3 −2x4 +3x5 = 24, 20x1 +5x2 +3x3 −2x4 − x5 = 29,2x1 +18x2 +60x3 +5x4 −3x5 = 177, 2x1 +4x2 +4x3 +3x5 = 26\n"
   ]
  },
  {
   "cell_type": "markdown",
   "id": "250d723f",
   "metadata": {},
   "source": [
    "\n",
    "\n",
    "(d) 2x1 +3x2 − x3 = 4, x1 +4x2 + x3 = −1, 5x1 − x2 +2x3 = 1, 2x1 +3x2−6x3 +5x4 +4x5 = 0"
   ]
  },
  {
   "cell_type": "markdown",
   "id": "40d761b9",
   "metadata": {},
   "source": [
    "#### Lets create the function which solve the system of equation using the cramers rule"
   ]
  },
  {
   "cell_type": "code",
   "execution_count": 7,
   "id": "55d591d6",
   "metadata": {},
   "outputs": [],
   "source": [
    "import numpy as np"
   ]
  },
  {
   "cell_type": "code",
   "execution_count": 8,
   "id": "3f9a7e9f",
   "metadata": {},
   "outputs": [],
   "source": [
    "def Cramer(A,b):\n",
    "    import numpy as np\n",
    "    d=np.linalg.det(A)\n",
    "    if(d!=0):\n",
    "        row,col=A.shape\n",
    "        x=[]\n",
    "        for i in range(col):  \n",
    "            C=A.copy()\n",
    "            C[:,i]=b\n",
    "            v=np.linalg.det(C)/np.linalg.det(A)\n",
    "            x.append(round(v))\n",
    "        print(\"The solution of the S.O.E. is:\")\n",
    "        print(x)\n",
    "    else:\n",
    "        print(\"The System has no solution\")"
   ]
  },
  {
   "cell_type": "code",
   "execution_count": 9,
   "id": "a8bf3a30",
   "metadata": {},
   "outputs": [
    {
     "name": "stdout",
     "output_type": "stream",
     "text": [
      "The solution of the S.O.E. is:\n",
      "[2, 3, -4]\n"
     ]
    }
   ],
   "source": [
    "#a)\n",
    "A=np.matrix(\"2,-1,1;1,1,-3;5,-2,-4\")\n",
    "b=np.matrix(\"-3,17,20\").transpose()\n",
    "Cramer(A,b)"
   ]
  },
  {
   "cell_type": "code",
   "execution_count": 10,
   "id": "75052773",
   "metadata": {},
   "outputs": [
    {
     "name": "stdout",
     "output_type": "stream",
     "text": [
      "The solution of the S.O.E. is:\n",
      "[1, 0, -2]\n"
     ]
    }
   ],
   "source": [
    "#b)\n",
    "A=np.matrix(\"2,3,-1;1,4,1;5,-1,2\")\n",
    "b=np.matrix(\"4,-1,1\").transpose()\n",
    "Cramer(A,b)"
   ]
  },
  {
   "cell_type": "code",
   "execution_count": 11,
   "id": "8a66b9ea",
   "metadata": {},
   "outputs": [
    {
     "name": "stdout",
     "output_type": "stream",
     "text": [
      "The solution of the S.O.E. is:\n",
      "[2, -3, 4, 1, 6]\n"
     ]
    }
   ],
   "source": [
    "#c)\n",
    "A=np.matrix(\"-1,2,4,-2,3;20,5,3,-2,-1;2,18,60,5,-3;2,4,4,0,3;2,3,-6,5,4\")\n",
    "b=np.matrix(\"24,29,177,26,0\").transpose()\n",
    "Cramer(A,b)"
   ]
  },
  {
   "cell_type": "markdown",
   "id": "acb30df0",
   "metadata": {},
   "source": [
    "# [3]"
   ]
  },
  {
   "cell_type": "markdown",
   "id": "13d6abcf",
   "metadata": {},
   "source": [
    "# g-Inverse of the Non Full Rank Matrix"
   ]
  },
  {
   "cell_type": "code",
   "execution_count": 12,
   "id": "17968f33",
   "metadata": {},
   "outputs": [
    {
     "name": "stdout",
     "output_type": "stream",
     "text": [
      "[[1 2 3]\n",
      " [4 5 6]\n",
      " [7 8 9]]\n"
     ]
    }
   ],
   "source": [
    "import numpy as np\n",
    "A=np.array([[1,2,3],[4,5,6],[7,8,9]])\n",
    "print(A)"
   ]
  },
  {
   "cell_type": "code",
   "execution_count": 13,
   "id": "9c95bd2c",
   "metadata": {},
   "outputs": [],
   "source": [
    "A=np.matrix(\"1,2,3;4,5,6;7,8,9\")"
   ]
  },
  {
   "cell_type": "code",
   "execution_count": 14,
   "id": "003487d0",
   "metadata": {},
   "outputs": [
    {
     "name": "stdout",
     "output_type": "stream",
     "text": [
      "Rank of the matrix is:  2\n",
      "The g-Inverse of the Matrix is:\n",
      " [[-1.  0.  0.]\n",
      " [ 0.  0.  0.]\n",
      " [ 1.  0. -0.]]\n"
     ]
    }
   ],
   "source": [
    "r=np.linalg.matrix_rank(A)\n",
    "print(\"Rank of the matrix is: \",r)\n",
    "m,n=A.shape\n",
    "G=np.zeros((m,n))\n",
    "B=A[np.ix_([0,r],[0,r])]\n",
    "r1=np.linalg.matrix_rank(B)\n",
    "if(r==r1):\n",
    "    G[np.ix_([0,r],[0,r])]=np.linalg.inv(B).T\n",
    "    G=G.T\n",
    "print(\"The g-Inverse of the Matrix is:\\n\" ,np.round(G))"
   ]
  },
  {
   "cell_type": "markdown",
   "id": "871ef891",
   "metadata": {},
   "source": [
    "# Verify the Properties of the g_Inverse"
   ]
  },
  {
   "cell_type": "code",
   "execution_count": 15,
   "id": "03c8ea25",
   "metadata": {},
   "outputs": [
    {
     "name": "stdout",
     "output_type": "stream",
     "text": [
      "Property Satisfied\n"
     ]
    }
   ],
   "source": [
    "#AGA=A\n",
    "if(np.round(A@G@A)==A).any():\n",
    "    print(\"Property Satisfied\")\n",
    "else:\n",
    "    print(\"Property Not Satisfied\")\n"
   ]
  },
  {
   "cell_type": "code",
   "execution_count": 16,
   "id": "e4e5df6d",
   "metadata": {},
   "outputs": [
    {
     "name": "stdout",
     "output_type": "stream",
     "text": [
      "Property Satisfied\n"
     ]
    }
   ],
   "source": [
    "#trace(AG)=trace(GA)=rank(A)\n",
    "if np.trace(A@G)==round(np.trace(G@A))==np.linalg.matrix_rank(A):\n",
    "    print(\"Property Satisfied\")\n",
    "else:\n",
    "    print(\"Property not Satisfied\")"
   ]
  },
  {
   "cell_type": "markdown",
   "id": "2f59899d",
   "metadata": {},
   "source": [
    "# [4]"
   ]
  },
  {
   "cell_type": "markdown",
   "id": "0e07b1f2",
   "metadata": {},
   "source": [
    "# Solution Of Systems Of Linear Equations"
   ]
  },
  {
   "cell_type": "code",
   "execution_count": 17,
   "id": "2283f329",
   "metadata": {},
   "outputs": [],
   "source": [
    "import numpy as np"
   ]
  },
  {
   "cell_type": "code",
   "execution_count": 18,
   "id": "626d2eb7",
   "metadata": {},
   "outputs": [
    {
     "name": "stdout",
     "output_type": "stream",
     "text": [
      "0\n",
      "-16\n"
     ]
    }
   ],
   "source": [
    "A=np.matrix(\"2,-1,1;1,1,-3;5,-2,-4\")\n",
    "A1=np.matrix(\"1,2,3;4,5,6;7,8,9\")\n",
    "b=np.matrix(\"-3,17,20\").transpose()\n",
    "print(round(np.linalg.det(A1)))\n",
    "print(round(np.linalg.det(A)))\n"
   ]
  },
  {
   "cell_type": "code",
   "execution_count": 19,
   "id": "b2c3f4d1",
   "metadata": {},
   "outputs": [],
   "source": [
    "def SLE(A,b):\n",
    "    if round(np.linalg.det(A))==0:\n",
    "        r=np.linalg.matrix_rank(A)\n",
    "        print(\"Rank of the matrix is: \",r)\n",
    "        m,n=A.shape\n",
    "        G=np.zeros((m,n))\n",
    "        B=A[np.ix_([0,r],[0,r])]\n",
    "        r1=np.linalg.matrix_rank(B)\n",
    "        if(r==r1):\n",
    "            G[np.ix_([0,r],[0,r])]=np.linalg.inv(B).T\n",
    "            G=G.T\n",
    "        print(\"The g-Inverse of the Matrix is:\\n\" ,G)\n",
    "        print(\"\\nThe System has Infinite solutions\")\n",
    "        z1=np.random.rand(n,1)*10\n",
    "        z2=np.random.rand(n,1)*10\n",
    "        I=np.eye(n)\n",
    "        print(\"first solution of SLE:\\n\",np.round(G*b+(I-G*A)*z1))\n",
    "        print(\"Second solution of SLE:\\n\",np.round(G*b+(I-G*A)*z2))\n",
    "    else:\n",
    "        Inv=np.linalg.inv(A)\n",
    "        #AX=b\n",
    "        #X=inv(A)*b\n",
    "        s=np.linalg.inv(A)*b\n",
    "        print(\"The unique solution of  SLE is\\n:\",np.round(s))\n",
    "        "
   ]
  },
  {
   "cell_type": "code",
   "execution_count": 23,
   "id": "9b005dcb",
   "metadata": {},
   "outputs": [
    {
     "name": "stdout",
     "output_type": "stream",
     "text": [
      "The unique solution of  SLE is\n",
      ": [[ 2.]\n",
      " [ 3.]\n",
      " [-4.]]\n"
     ]
    }
   ],
   "source": [
    "SLE(A,b)"
   ]
  },
  {
   "cell_type": "code",
   "execution_count": 24,
   "id": "8bb9c3e1",
   "metadata": {},
   "outputs": [
    {
     "name": "stdout",
     "output_type": "stream",
     "text": [
      "Rank of the matrix is:  2\n",
      "The g-Inverse of the Matrix is:\n",
      " [[-0.75        0.          0.25      ]\n",
      " [ 0.          0.          0.        ]\n",
      " [ 0.58333333  0.         -0.08333333]]\n",
      "\n",
      "The System has Infinite solutions\n",
      "first solution of SLE:\n",
      " [[ 7.]\n",
      " [ 0.]\n",
      " [-4.]]\n",
      "Second solution of SLE:\n",
      " [[ 7.]\n",
      " [ 1.]\n",
      " [-4.]]\n"
     ]
    }
   ],
   "source": [
    "SLE(A1,b)"
   ]
  },
  {
   "cell_type": "markdown",
   "id": "fc921805",
   "metadata": {},
   "source": [
    "# [5]"
   ]
  },
  {
   "cell_type": "markdown",
   "id": "b6f0a0e0",
   "metadata": {},
   "source": [
    "# Using Spectral Decomposition Find the Power of the matrix"
   ]
  },
  {
   "cell_type": "code",
   "execution_count": 20,
   "id": "25ae540e",
   "metadata": {},
   "outputs": [],
   "source": [
    "import numpy as np"
   ]
  },
  {
   "cell_type": "code",
   "execution_count": 21,
   "id": "6f8891c0",
   "metadata": {},
   "outputs": [],
   "source": [
    "A=np.array([[3,-1,1],[-1,5,-1],[1,-1,3]])"
   ]
  },
  {
   "cell_type": "code",
   "execution_count": 22,
   "id": "c1f8c1d3",
   "metadata": {},
   "outputs": [],
   "source": [
    "P,L=np.linalg.eig(A)\n"
   ]
  },
  {
   "cell_type": "code",
   "execution_count": 23,
   "id": "dddc5046",
   "metadata": {},
   "outputs": [
    {
     "name": "stdout",
     "output_type": "stream",
     "text": [
      "[[6. 0. 0.]\n",
      " [0. 2. 0.]\n",
      " [0. 0. 3.]]\n"
     ]
    }
   ],
   "source": [
    "E=np.diagflat(np.linalg.eigvals(A))\n",
    "print(E)"
   ]
  },
  {
   "cell_type": "markdown",
   "id": "6b10319b",
   "metadata": {},
   "source": [
    "###### or"
   ]
  },
  {
   "cell_type": "code",
   "execution_count": 31,
   "id": "252d06ec",
   "metadata": {},
   "outputs": [
    {
     "name": "stdout",
     "output_type": "stream",
     "text": [
      "[[6. 0. 0.]\n",
      " [0. 2. 0.]\n",
      " [0. 0. 3.]]\n"
     ]
    }
   ],
   "source": [
    "E=np.diag(list(np.linalg.eigvals(A)))\n",
    "print(E)"
   ]
  },
  {
   "cell_type": "code",
   "execution_count": 32,
   "id": "851e16d2",
   "metadata": {},
   "outputs": [],
   "source": [
    "def SDT_Power(A,c):\n",
    "    import numpy as np\n",
    "    P,L=np.linalg.eig(A)\n",
    "    E=np.diag(list(np.linalg.eigvals(A)))\n",
    "    return np.round(L@E**c@L.T)"
   ]
  },
  {
   "cell_type": "code",
   "execution_count": 33,
   "id": "3bdc2f1b",
   "metadata": {},
   "outputs": [
    {
     "data": {
      "text/plain": [
       "array([[11., -9.,  7.],\n",
       "       [-9., 27., -9.],\n",
       "       [ 7., -9., 11.]])"
      ]
     },
     "execution_count": 33,
     "metadata": {},
     "output_type": "execute_result"
    }
   ],
   "source": [
    "SDT_Power(A,2) #A^2"
   ]
  },
  {
   "cell_type": "code",
   "execution_count": 37,
   "id": "f354eb75",
   "metadata": {},
   "outputs": [
    {
     "data": {
      "text/plain": [
       "array([[ 47449., -92583.,  47321.],\n",
       "       [-92583., 187353., -92583.],\n",
       "       [ 47321., -92583.,  47449.]])"
      ]
     },
     "execution_count": 37,
     "metadata": {},
     "output_type": "execute_result"
    }
   ],
   "source": [
    "SDT_Power(A,7) #A^7"
   ]
  },
  {
   "cell_type": "code",
   "execution_count": 38,
   "id": "e11a2d41",
   "metadata": {},
   "outputs": [
    {
     "data": {
      "text/plain": [
       "array([[ 2., -0.,  0.],\n",
       "       [-0.,  2., -0.],\n",
       "       [ 0., -0.,  2.]])"
      ]
     },
     "execution_count": 38,
     "metadata": {},
     "output_type": "execute_result"
    }
   ],
   "source": [
    "SDT_Power(A,1/2) #A^0.5"
   ]
  },
  {
   "cell_type": "code",
   "execution_count": 41,
   "id": "dece7603",
   "metadata": {},
   "outputs": [
    {
     "data": {
      "text/plain": [
       "array([[ 6., -3.,  3.],\n",
       "       [-3., 12., -3.],\n",
       "       [ 3., -3.,  6.]])"
      ]
     },
     "execution_count": 41,
     "metadata": {},
     "output_type": "execute_result"
    }
   ],
   "source": [
    "SDT_Power(A,3/2) #A^1.5"
   ]
  },
  {
   "cell_type": "markdown",
   "id": "842cb31c",
   "metadata": {},
   "source": [
    "# [6]"
   ]
  },
  {
   "cell_type": "markdown",
   "id": "0cc10345",
   "metadata": {},
   "source": [
    "# GSO(Gram_Smith_Orthogonalization)"
   ]
  },
  {
   "cell_type": "code",
   "execution_count": 57,
   "id": "71effa9d",
   "metadata": {},
   "outputs": [],
   "source": [
    "import numpy as np"
   ]
  },
  {
   "cell_type": "code",
   "execution_count": 58,
   "id": "d8d10513",
   "metadata": {},
   "outputs": [],
   "source": [
    "x1=np.array([3,1,-1,3])\n",
    "x2=np.array([-5,1,5,-7])\n",
    "x3=np.array([1,1,-2,8])"
   ]
  },
  {
   "cell_type": "code",
   "execution_count": 54,
   "id": "7323e4e8",
   "metadata": {},
   "outputs": [],
   "source": [
    "def GSO3(x1,x2,x3):\n",
    "    import pandas as pd\n",
    "    import numpy as np\n",
    "    z1=x1\n",
    "    z2=x2-(np.inner(x2,z1)/np.inner(z1,z1)*z1)\n",
    "    z3=x3-(np.inner(x3,z1)/np.inner(z1,z1)*z1)-(np.inner(x3,z2)/np.inner(z2,z2)*z2)\n",
    "    \n",
    "    print(\"Orthogonal:\\n\",np.matrix([z1,z2,z3]),\"\\nOrthonormal:\\n\",np.matrix([z1/np.linalg.norm(z1),z2/np.linalg.norm(z2),z3/np.linalg.norm(z3)]))\n",
    "    "
   ]
  },
  {
   "cell_type": "code",
   "execution_count": 55,
   "id": "aeecb00b",
   "metadata": {},
   "outputs": [
    {
     "name": "stdout",
     "output_type": "stream",
     "text": [
      "Orthogonal:\n",
      " [[ 1.          1.          1.          0.        ]\n",
      " [ 0.33333333  0.33333333 -0.66666667  1.        ]\n",
      " [-0.6         0.4         0.2         0.2       ]] \n",
      "Orthonormal:\n",
      " [[ 0.57735027  0.57735027  0.57735027  0.        ]\n",
      " [ 0.25819889  0.25819889 -0.51639778  0.77459667]\n",
      " [-0.77459667  0.51639778  0.25819889  0.25819889]]\n"
     ]
    }
   ],
   "source": [
    "GSO3(x1,x2,x3)"
   ]
  },
  {
   "cell_type": "code",
   "execution_count": 34,
   "id": "398dc548",
   "metadata": {},
   "outputs": [
    {
     "name": "stdout",
     "output_type": "stream",
     "text": [
      "[[1 1 0 0]\n",
      " [1 1 1 1]\n",
      " [1 0 0 1]\n",
      " [0 1 1 0]]\n"
     ]
    }
   ],
   "source": [
    "np.random.seed(1)\n",
    "x=np.random.randint(0,2,(4,4))\n",
    "print(x)"
   ]
  },
  {
   "cell_type": "code",
   "execution_count": 38,
   "id": "89882a9a",
   "metadata": {},
   "outputs": [],
   "source": [
    "x1=x[:,0]\n",
    "x2=x[:,1]\n",
    "x3=x[:,2]\n",
    "x4=x[:,3]"
   ]
  },
  {
   "cell_type": "code",
   "execution_count": 47,
   "id": "02e624d5",
   "metadata": {},
   "outputs": [],
   "source": [
    "def GSO4(x1,x2,x3,x4):\n",
    "    import pandas as pd\n",
    "    import numpy as np\n",
    "    z1=x1\n",
    "    z2=x2-(np.inner(x2,z1)/np.inner(z1,z1)*z1)\n",
    "    z3=x3-(np.inner(x3,z1)/np.inner(z1,z1)*z1)-(np.inner(x3,z2)/np.inner(z2,z2)*z2)\n",
    "    z4=x4-(np.inner(x4,z1)/np.inner(z1,z1)*z1)-(np.inner(x4,z2)/np.inner(z2,z2)*z2)-(np.inner(x4,z3)/np.inner(z3,z3)*z3)\n",
    "    l=[np.round(z1),np.round(z2),np.round(z3),np.round(z4)]\n",
    "    l1=[z1/np.linalg.norm(z1),z2/np.linalg.norm(z2),z3/np.linalg.norm(z3),z4/np.linalg.norm(z4)]\n",
    "    l2=[]\n",
    "    for i in l1:\n",
    "        l2.append(np.round(i))\n",
    "    print(\"Orthogonal: \\n\",np.matrix(l),\"\\nOrthonormal: \\n\",np.matrix(l2))"
   ]
  },
  {
   "cell_type": "code",
   "execution_count": 48,
   "id": "0a25832a",
   "metadata": {},
   "outputs": [
    {
     "name": "stdout",
     "output_type": "stream",
     "text": [
      "Orthogonal: \n",
      " [[ 1.  1.  1.  0.]\n",
      " [ 0.  0. -1.  1.]\n",
      " [-1.  0.  0.  0.]\n",
      " [ 0.  0.  0.  0.]] \n",
      "Orthonormal: \n",
      " [[ 1.  1.  1.  0.]\n",
      " [ 0.  0. -1.  1.]\n",
      " [-1.  1.  0.  0.]\n",
      " [ 1.  0.  0.  0.]]\n"
     ]
    }
   ],
   "source": [
    "GSO4(x1,x2,x3,x4)"
   ]
  },
  {
   "cell_type": "markdown",
   "id": "ab8e95c2",
   "metadata": {},
   "source": [
    "## Obtain an 4 by 4 orthogonal matrix with all elements in first row equal"
   ]
  },
  {
   "cell_type": "code",
   "execution_count": 88,
   "id": "9f452483",
   "metadata": {},
   "outputs": [
    {
     "data": {
      "text/plain": [
       "array([[ 0.57735027,  0.        ,  0.57735027,  0.57735027],\n",
       "       [-0.57735027,  0.        ,  0.57735027,  0.57735027],\n",
       "       [ 0.        ,  0.57735027, -0.57735027,  0.57735027],\n",
       "       [ 0.5       ,  0.5       ,  0.5       ,  0.5       ]])"
      ]
     },
     "execution_count": 88,
     "metadata": {},
     "output_type": "execute_result"
    }
   ],
   "source": [
    "x4=[1, 1, 1, 1]\n",
    "x3=[0, 1, -1, 1]\n",
    "x2=[-1, 0, 1, 1]\n",
    "x1=[1, 0, 1, 1]\n",
    "z1=x1/np.linalg.norm(x1)\n",
    "z2=x2/np.linalg.norm(x2)\n",
    "z3=x3/np.linalg.norm(x3)\n",
    "z4=x4/np.linalg.norm(x4)\n",
    "np.array([z1,z2,z3,z4])"
   ]
  },
  {
   "cell_type": "code",
   "execution_count": 89,
   "id": "687eef3a",
   "metadata": {},
   "outputs": [
    {
     "data": {
      "text/plain": [
       "array([[ 0.5       ,  0.5       ,  0.5       ,  0.5       ],\n",
       "       [-1.        ,  0.        , -2.        ,  0.        ],\n",
       "       [-1.45      , -0.25      ,  0.35      ,  0.75      ],\n",
       "       [-0.52807018, -0.78070175, -0.90701754,  0.34210526]])"
      ]
     },
     "execution_count": 89,
     "metadata": {},
     "output_type": "execute_result"
    }
   ],
   "source": [
    "y1=z4\n",
    "y2=x3-np.inner(x4,y1)/np.inner(y1,y1)*z4\n",
    "y3=x2-np.inner(x2,y2)/np.inner(y2,y2)*y2-np.inner(x2,y1)/np.inner(y1,y1)*y1\n",
    "y4=x1-np.inner(x1,y1)/np.inner(y1,y1)*y1-np.inner(x1,y2)/np.inner(y2,y2)*y2-np.inner(x1,y3)/np.inner(y3,y3)*y3\n",
    "np.array([y1,y2,y3,y4])"
   ]
  },
  {
   "cell_type": "code",
   "execution_count": null,
   "id": "4dc83a87",
   "metadata": {},
   "outputs": [],
   "source": []
  },
  {
   "cell_type": "code",
   "execution_count": null,
   "id": "0c60d3f9",
   "metadata": {},
   "outputs": [],
   "source": []
  }
 ],
 "metadata": {
  "kernelspec": {
   "display_name": "Python 3",
   "language": "python",
   "name": "python3"
  },
  "language_info": {
   "codemirror_mode": {
    "name": "ipython",
    "version": 3
   },
   "file_extension": ".py",
   "mimetype": "text/x-python",
   "name": "python",
   "nbconvert_exporter": "python",
   "pygments_lexer": "ipython3",
   "version": "3.8.8"
  }
 },
 "nbformat": 4,
 "nbformat_minor": 5
}
